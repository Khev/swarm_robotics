{
 "cells": [
  {
   "attachments": {},
   "cell_type": "markdown",
   "metadata": {},
   "source": [
    "# Introduction\n",
    "\n",
    "Plan\n",
    "\n",
    "1. Leetcode: basics, graph.\n",
    "2. Pramp: 5 interviews\n",
    "3. ML basics. \n",
    "4. ML advanced. \n",
    "\n",
    "\n",
    "### Leetcode\n",
    "\n",
    "1. Graph travelsal -- DONE\n",
    "2. Sorting + searching -- DONE\n",
    "3. Data structures: strings, array, dict, linked list, tree -- DONE\n",
    "4. Dynamic programming. Backtracking -- DONE\n",
    "\n"
   ]
  },
  {
   "attachments": {},
   "cell_type": "markdown",
   "metadata": {},
   "source": [
    "### Binary search tree"
   ]
  },
  {
   "cell_type": "code",
   "execution_count": 14,
   "metadata": {},
   "outputs": [
    {
     "data": {
      "text/plain": [
       "[')', '(']"
      ]
     },
     "execution_count": 14,
     "metadata": {},
     "output_type": "execute_result"
    }
   ],
   "source": [
    "text = '())('\n",
    "stack = []\n",
    "for s in text:\n",
    "    stack.append(s)\n",
    "    if stack[-2:] == ['(',')']:\n",
    "        stack.pop(-1)\n",
    "        stack.pop(-1)\n",
    "stack"
   ]
  },
  {
   "cell_type": "code",
   "execution_count": 16,
   "metadata": {},
   "outputs": [
    {
     "data": {
      "text/plain": [
       "[[1, 2, 3, 4, 5], [6, 7, 8, 9, 10], [11, 12, 13, 14, 15], [16, 17, 18, 19, 20]]"
      ]
     },
     "execution_count": 16,
     "metadata": {},
     "output_type": "execute_result"
    }
   ],
   "source": [
    "matrix  = [ [1,    2,   3,  4,    5],\n",
    "                         [6,    7,   8,  9,   10],\n",
    "                         [11,  12,  13,  14,  15],\n",
    "                         [16,  17,  18,  19,  20] ]\n",
    "\n",
    "matrix"
   ]
  }
 ],
 "metadata": {
  "kernelspec": {
   "display_name": "base",
   "language": "python",
   "name": "python3"
  },
  "language_info": {
   "codemirror_mode": {
    "name": "ipython",
    "version": 3
   },
   "file_extension": ".py",
   "mimetype": "text/x-python",
   "name": "python",
   "nbconvert_exporter": "python",
   "pygments_lexer": "ipython3",
   "version": "3.9.13"
  },
  "orig_nbformat": 4,
  "vscode": {
   "interpreter": {
    "hash": "9f95f92f995962f5b5c6970e036b86824f30ff37ee786710e0d84c5b9bf403d5"
   }
  }
 },
 "nbformat": 4,
 "nbformat_minor": 2
}
